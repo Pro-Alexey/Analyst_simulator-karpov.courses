{
 "cells": [
  {
   "cell_type": "markdown",
   "id": "bb458b89-00dc-4275-bb48-d28b80e714b8",
   "metadata": {},
   "source": [
    "# Пробуем метод анализа от исследователей Яндекса"
   ]
  },
  {
   "cell_type": "markdown",
   "id": "6425e07c-cc2a-459f-9cea-89c58b9a0842",
   "metadata": {
    "tags": []
   },
   "source": [
    "##### Идея метода заключается в следующем:\n",
    "\n",
    "Вместо того, чтобы заталкивать в тест «поюзерные» CTR, можно сконструировать другую метрику и анализировать ее, но при этом гарантируется (в отличие от сглаженного CTR), что если тест на этой другой метрике «прокрасится» и увидит изменения, значит изменения есть и в метрике исходной (то есть в лайках на пользователя и в пользовательских CTR)\n",
    "\n",
    "При этом метод сам по себе очень прост. Что это за метрика такая?\n",
    "\n",
    "* Считаем общий CTR в контрольной группе  𝐶𝑇𝑅𝑐𝑜𝑛𝑡𝑟𝑜𝑙=𝑠𝑢𝑚(𝑙𝑖𝑘𝑒𝑠)/𝑠𝑢𝑚(𝑣𝑖𝑒𝑤𝑠) \n",
    "* Посчитаем в обеих группах поюзерную метрику  𝑙𝑖𝑛𝑒𝑎𝑟𝑖𝑧𝑒𝑑_𝑙𝑖𝑘𝑒𝑠=𝑙𝑖𝑘𝑒𝑠−𝐶𝑇𝑅𝑐𝑜𝑛𝑡𝑟𝑜𝑙∗𝑣𝑖𝑒𝑤𝑠 \n",
    "* После чего сравним  t-тестом отличия в группах по метрике 𝑙𝑖𝑛𝑒𝑎𝑟𝑖𝑧𝑒𝑑_𝑙𝑖𝑘𝑒𝑠"
   ]
  },
  {
   "cell_type": "markdown",
   "id": "30e5ab52-f4f7-4522-b5d5-be519da520d7",
   "metadata": {},
   "source": [
    "#### Задача\n",
    "1. Проанализируйте тест между группами 0 и 3 по метрике линеаризованных лайков. Видно ли отличие? Стало ли 𝑝−𝑣𝑎𝑙𝑢𝑒 меньше?\n",
    "2. Проанализируйте тест между группами 1 и 2 по метрике линеаризованных лайков. Видно ли отличие? Стало ли 𝑝−𝑣𝑎𝑙𝑢𝑒 меньше?"
   ]
  },
  {
   "cell_type": "code",
   "execution_count": 9,
   "id": "188805a5-91f5-43fb-a7fb-7bb7f8cff98f",
   "metadata": {},
   "outputs": [
    {
     "data": {
      "text/html": [
       "<div>\n",
       "<style scoped>\n",
       "    .dataframe tbody tr th:only-of-type {\n",
       "        vertical-align: middle;\n",
       "    }\n",
       "\n",
       "    .dataframe tbody tr th {\n",
       "        vertical-align: top;\n",
       "    }\n",
       "\n",
       "    .dataframe thead th {\n",
       "        text-align: right;\n",
       "    }\n",
       "</style>\n",
       "<table border=\"1\" class=\"dataframe\">\n",
       "  <thead>\n",
       "    <tr style=\"text-align: right;\">\n",
       "      <th></th>\n",
       "      <th>user_id</th>\n",
       "      <th>exp_group</th>\n",
       "      <th>likes</th>\n",
       "      <th>views</th>\n",
       "      <th>ctr</th>\n",
       "    </tr>\n",
       "  </thead>\n",
       "  <tbody>\n",
       "    <tr>\n",
       "      <th>0</th>\n",
       "      <td>115383</td>\n",
       "      <td>3</td>\n",
       "      <td>9</td>\n",
       "      <td>30</td>\n",
       "      <td>0.30000</td>\n",
       "    </tr>\n",
       "    <tr>\n",
       "      <th>1</th>\n",
       "      <td>18392</td>\n",
       "      <td>1</td>\n",
       "      <td>7</td>\n",
       "      <td>32</td>\n",
       "      <td>0.21875</td>\n",
       "    </tr>\n",
       "  </tbody>\n",
       "</table>\n",
       "</div>"
      ],
      "text/plain": [
       "   user_id  exp_group  likes  views      ctr\n",
       "0   115383          3      9     30  0.30000\n",
       "1    18392          1      7     32  0.21875"
      ]
     },
     "execution_count": 9,
     "metadata": {},
     "output_type": "execute_result"
    }
   ],
   "source": [
    "#Получаем данные и смотрим на размер групп\n",
    "\n",
    "import pandahouse\n",
    "import pandas as pd\n",
    "import matplotlib.pyplot as plt\n",
    "import seaborn as sns\n",
    "import numpy as np\n",
    "from scipy import stats\n",
    "\n",
    "connection = {\n",
    "    'host': 'https://clickhouse.lab.karpov.courses',\n",
    "                    'database':'simulator_20220520',\n",
    "                    'user':'student', \n",
    "                    'password':'dpo_python_2020'\n",
    "}\n",
    "\n",
    "q = '''SELECT user_id, \n",
    "            exp_group,\n",
    "            sum(action = 'like') as likes,\n",
    "            sum(action = 'view') as views,\n",
    "            likes/views as ctr\n",
    "        FROM {db}.feed_actions\n",
    "        where toDate(time) >= '2022-04-24' and toDate(time) <= '2022-04-30'\n",
    "        group by user_id, exp_group\n",
    "        '''\n",
    "\n",
    "df = pandahouse.read_clickhouse(q, connection=connection)\n",
    "df.head(2)"
   ]
  },
  {
   "cell_type": "markdown",
   "id": "cb7deeaa-3e00-4ba1-a159-f1d732876f0f",
   "metadata": {},
   "source": [
    "Считаем общий CTR в контрольной группе  𝐶𝑇𝑅𝑐𝑜𝑛𝑡𝑟𝑜𝑙=𝑠𝑢𝑚(𝑙𝑖𝑘𝑒𝑠)/𝑠𝑢𝑚(𝑣𝑖𝑒𝑤𝑠)"
   ]
  },
  {
   "cell_type": "code",
   "execution_count": 10,
   "id": "a6943a9c-f908-4e67-9655-1e5d0be20806",
   "metadata": {},
   "outputs": [],
   "source": [
    "df_group_03 = df.query('exp_group == 0 or exp_group == 3')\n",
    "df_group_12 = df.query('exp_group == 1 or exp_group == 2')"
   ]
  },
  {
   "cell_type": "code",
   "execution_count": 17,
   "id": "5510e745-75d9-4560-923f-aef5435d3e9f",
   "metadata": {},
   "outputs": [],
   "source": [
    "ctr_control_1_2 = df[df.exp_group == 1].likes.sum()/df[df.exp_group == 1].views.sum()\n",
    "ctr_control_0_3 = df[df.exp_group == 0].likes.sum()/df[df.exp_group == 0].views.sum()"
   ]
  },
  {
   "cell_type": "markdown",
   "id": "f6335660-31b7-4d13-8629-e594c172f76f",
   "metadata": {},
   "source": [
    "Посчитаем в обеих группах поюзерную метрику  𝑙𝑖𝑛𝑒𝑎𝑟𝑖𝑧𝑒𝑑_𝑙𝑖𝑘𝑒𝑠=𝑙𝑖𝑘𝑒𝑠−𝐶𝑇𝑅𝑐𝑜𝑛𝑡𝑟𝑜𝑙∗𝑣𝑖𝑒𝑤𝑠"
   ]
  },
  {
   "cell_type": "code",
   "execution_count": 21,
   "id": "2caa23be-ce64-4743-845d-dd3c8b66bf8b",
   "metadata": {},
   "outputs": [
    {
     "name": "stderr",
     "output_type": "stream",
     "text": [
      "/tmp/ipykernel_290/1266781387.py:1: SettingWithCopyWarning: \n",
      "A value is trying to be set on a copy of a slice from a DataFrame.\n",
      "Try using .loc[row_indexer,col_indexer] = value instead\n",
      "\n",
      "See the caveats in the documentation: https://pandas.pydata.org/pandas-docs/stable/user_guide/indexing.html#returning-a-view-versus-a-copy\n",
      "  df_group_03['linearized_likes'] = df_group_03.likes - ctr_control_0_3 * df_group_03.views\n",
      "/tmp/ipykernel_290/1266781387.py:2: SettingWithCopyWarning: \n",
      "A value is trying to be set on a copy of a slice from a DataFrame.\n",
      "Try using .loc[row_indexer,col_indexer] = value instead\n",
      "\n",
      "See the caveats in the documentation: https://pandas.pydata.org/pandas-docs/stable/user_guide/indexing.html#returning-a-view-versus-a-copy\n",
      "  df_group_12['linearized_likes'] = df_group_12.likes - ctr_control_1_2 * df_group_12.views\n"
     ]
    }
   ],
   "source": [
    "df_group_03['linearized_likes'] = df_group_03.likes - ctr_control_0_3 * df_group_03.views\n",
    "df_group_12['linearized_likes'] = df_group_12.likes - ctr_control_1_2 * df_group_12.views"
   ]
  },
  {
   "cell_type": "markdown",
   "id": "2d519de0-5c7e-48d0-8005-7a3d3b298fc0",
   "metadata": {},
   "source": [
    "После чего сравним  t-тестом отличия в группах по метрике 𝑙𝑖𝑛𝑒𝑎𝑟𝑖𝑧𝑒𝑑_𝑙𝑖𝑘𝑒𝑠"
   ]
  },
  {
   "cell_type": "code",
   "execution_count": 22,
   "id": "d48fde8e-3851-40ed-822a-281ee6b8bfc4",
   "metadata": {},
   "outputs": [
    {
     "data": {
      "text/plain": [
       "<matplotlib.legend.Legend at 0x7f72863840a0>"
      ]
     },
     "execution_count": 22,
     "metadata": {},
     "output_type": "execute_result"
    },
    {
     "data": {
      "image/png": "[encoded data removed]",
      "text/plain": [
       "<Figure size 1080x432 with 1 Axes>"
      ]
     },
     "metadata": {},
     "output_type": "display_data"
    }
   ],
   "source": [
    "#Строим график для метрики linearized_likes в 1 и 2 группах\n",
    "sns.set(rc = {'figure.figsize':(15,6)})\n",
    "sns.histplot(data = df_group_12[df_group_12.exp_group == 2], x = 'linearized_likes', kde = False, color = 'b', alpha = 0.5, label = '2')\n",
    "sns.histplot(data = df_group_12[df_group_12.exp_group == 1], x = 'linearized_likes', kde = False, color = 'r', alpha = 0.5, label = '1')\n",
    "plt.legend(title = 'exp_group')"
   ]
  },
  {
   "cell_type": "code",
   "execution_count": 39,
   "id": "c16611d1-8bd9-49f7-9e31-de5af1b61862",
   "metadata": {},
   "outputs": [
    {
     "data": {
      "text/plain": [
       "<matplotlib.legend.Legend at 0x7f7283c765e0>"
      ]
     },
     "execution_count": 39,
     "metadata": {},
     "output_type": "execute_result"
    },
    {
     "data": {
      "image/png": "[encoded data removed]",
      "text/plain": [
       "<Figure size 1080x432 with 1 Axes>"
      ]
     },
     "metadata": {},
     "output_type": "display_data"
    }
   ],
   "source": [
    "#Строим график для метрики linearized_likes в 0 и 3 группах\n",
    "sns.histplot(data = df_group_03[df_group_03.exp_group == 3], x = 'linearized_likes', kde = False, color = 'b', alpha = 0.5, label = '2')\n",
    "sns.histplot(data = df_group_03[df_group_03.exp_group == 0], x = 'linearized_likes', kde = False, color = 'r', alpha = 0.5, label = '1')\n",
    "plt.legend(title = 'exp_group')"
   ]
  },
  {
   "cell_type": "code",
   "execution_count": 24,
   "id": "779ab273-fcc8-4810-9938-745ed722230b",
   "metadata": {},
   "outputs": [
    {
     "data": {
      "text/plain": [
       "Ttest_indResult(statistic=-15.214995460903827, pvalue=5.4914249479690016e-52)"
      ]
     },
     "execution_count": 24,
     "metadata": {},
     "output_type": "execute_result"
    }
   ],
   "source": [
    "#Проводим t-тест между группами 0-3\n",
    "stats.ttest_ind(df_group_03[df_group_03.exp_group == 0].linearized_likes,\n",
    "               df_group_03[df_group_03.exp_group == 3].linearized_likes,\n",
    "               equal_var = False)"
   ]
  },
  {
   "cell_type": "code",
   "execution_count": 40,
   "id": "b9e74996-1429-401c-9c5e-4811f788f7c8",
   "metadata": {},
   "outputs": [
    {
     "data": {
      "text/plain": [
       "Ttest_indResult(statistic=6.122579994775974, pvalue=9.439432187037644e-10)"
      ]
     },
     "execution_count": 40,
     "metadata": {},
     "output_type": "execute_result"
    }
   ],
   "source": [
    "#Проводим t-тест между группами 1-2\n",
    "stats.ttest_ind(df_group_12[df_group_12.exp_group == 1].linearized_likes,\n",
    "               df_group_12[df_group_12.exp_group == 2].linearized_likes,\n",
    "               equal_var = False)"
   ]
  },
  {
   "cell_type": "markdown",
   "id": "cfd9ee42-dd46-4f19-86e8-1d9b631e1c95",
   "metadata": {},
   "source": [
    "# Выводы"
   ]
  },
  {
   "cell_type": "markdown",
   "id": "d88372b2-c8fe-4534-85d5-7330f1472897",
   "metadata": {
    "tags": []
   },
   "source": [
    "Мы провели t-тест по метрике линеаризованных лайков и будем сравнивать его c t-тестом по поюзерной метрике CTR. Выведем все результаты тестов:\n",
    "##### Поюзерная метрика CTR:\n",
    "- P-value = 1.055849414662529e-43 в группах 0-3 \n",
    "- P-value = 0.4780623130874935 в группах 1-2\n",
    "\n",
    "##### Метрика линеаризованных лайков:\n",
    "- P-value = 5.4914249479690016e-52 в группах 0-3\n",
    "- P-value = 9.439432187037644e-10  в группах 1-2"
   ]
  },
  {
   "cell_type": "markdown",
   "id": "187506e0-08a1-4e9c-bc1a-964a8b45d3ff",
   "metadata": {},
   "source": [
    "Перед нами стояли 2 вопроса, изменяются ли в меньшую сторону p-value при использовании метрика линеаризованных лайков для группы 0-3 и группы 1-2? По вышеуказанным данным можно с уверенностью сказать, что при методе от яндекса p-value изменился в меньшую сторону и в группах 0-3 и 1-2.\n",
    "\n",
    "Если быть уж совсем точным в цифрах, то разница p-value между CTR и линеаризованными лайками составила:\n",
    "- 0-3: 0.47806231214355027\n",
    "- 1-2: 1.0558494091711042e-43"
   ]
  },
  {
   "cell_type": "markdown",
   "id": "ca45809b-b4c0-4bb5-a174-285d3a86b9de",
   "metadata": {
    "tags": []
   },
   "source": [
    "P.S. Данные p-value для метрики CTR взял из прошлого задания, чтобы не засорять данный расчёт"
   ]
  },
  {
   "cell_type": "code",
   "execution_count": null,
   "id": "9fc21d87-c903-41ba-9f43-5423fa031960",
   "metadata": {},
   "outputs": [],
   "source": []
  }
 ],
 "metadata": {
  "kernelspec": {
   "display_name": "Python 3 (ipykernel)",
   "language": "python",
   "name": "python3"
  },
  "language_info": {
   "codemirror_mode": {
    "name": "ipython",
    "version": 3
   },
   "file_extension": ".py",
   "mimetype": "text/x-python",
   "name": "python",
   "nbconvert_exporter": "python",
   "pygments_lexer": "ipython3",
   "version": "3.8.10"
  }
 },
 "nbformat": 4,
 "nbformat_minor": 5
}
