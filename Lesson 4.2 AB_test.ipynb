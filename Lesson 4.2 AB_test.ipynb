{
 "cells": [
  {
   "cell_type": "markdown",
   "id": "f2aa288e-a215-49da-b600-ae1efdd58761",
   "metadata": {
    "tags": []
   },
   "source": [
    "# Проводим АБ тест для анализа эксперимента\n",
    "В группе 2 был использован один из новых алгоритмов рекомендации постов, группа 1 использовалась в качестве контроля. \n",
    "\n",
    "Основная гипотеза заключается в том, что новый алгоритм во 2-й группе приведет к увеличению CTR. \n",
    "# Задачи:\n",
    "\n",
    "1. Выбрать метод анализа и сравнить CTR в двух группах (мы разбирали t-тест, Пуассоновский бутстреп, тест Манна-Уитни, t-тест на сглаженном ctr (α=5) а также t-тест и тест Манна-Уитни поверх бакетного преобразования).\n",
    "2. Сравните данные этими тестами. А еще посмотрите на распределения глазами. Почему тесты сработали так как сработали? \n",
    "3. Опишите потенциальную ситуацию, когда такое изменение могло произойти. Тут нет идеального ответа, подумайте.\n",
    "4. Напишите рекомендацию, будем ли мы раскатывать новый алгоритм на всех новых пользователей или все-таки не стоит.м.\n"
   ]
  },
  {
   "cell_type": "code",
   "execution_count": 2,
   "id": "289921a3-c548-430a-b899-9a4f70759519",
   "metadata": {},
   "outputs": [
    {
     "data": {
      "text/html": [
       "<div>\n",
       "<style scoped>\n",
       "    .dataframe tbody tr th:only-of-type {\n",
       "        vertical-align: middle;\n",
       "    }\n",
       "\n",
       "    .dataframe tbody tr th {\n",
       "        vertical-align: top;\n",
       "    }\n",
       "\n",
       "    .dataframe thead th {\n",
       "        text-align: right;\n",
       "    }\n",
       "</style>\n",
       "<table border=\"1\" class=\"dataframe\">\n",
       "  <thead>\n",
       "    <tr style=\"text-align: right;\">\n",
       "      <th></th>\n",
       "      <th>user_id</th>\n",
       "      <th>likes</th>\n",
       "      <th>views</th>\n",
       "      <th>ctr</th>\n",
       "    </tr>\n",
       "    <tr>\n",
       "      <th>exp_group</th>\n",
       "      <th></th>\n",
       "      <th></th>\n",
       "      <th></th>\n",
       "      <th></th>\n",
       "    </tr>\n",
       "  </thead>\n",
       "  <tbody>\n",
       "    <tr>\n",
       "      <th>1</th>\n",
       "      <td>10079</td>\n",
       "      <td>10079</td>\n",
       "      <td>10079</td>\n",
       "      <td>10079</td>\n",
       "    </tr>\n",
       "    <tr>\n",
       "      <th>2</th>\n",
       "      <td>9952</td>\n",
       "      <td>9952</td>\n",
       "      <td>9952</td>\n",
       "      <td>9952</td>\n",
       "    </tr>\n",
       "  </tbody>\n",
       "</table>\n",
       "</div>"
      ],
      "text/plain": [
       "           user_id  likes  views    ctr\n",
       "exp_group                              \n",
       "1            10079  10079  10079  10079\n",
       "2             9952   9952   9952   9952"
      ]
     },
     "execution_count": 2,
     "metadata": {},
     "output_type": "execute_result"
    }
   ],
   "source": [
    "#Получаем данные и смотрим на размер групп\n",
    "\n",
    "import pandahouse\n",
    "import pandas as pd\n",
    "import matplotlib.pyplot as plt\n",
    "import seaborn as sns\n",
    "import numpy as np\n",
    "from scipy import stats\n",
    "\n",
    "connection = {\n",
    "    'host': 'https://clickhouse.lab.karpov.courses',\n",
    "                    'database':'simulator_20220520',\n",
    "                    'user':'student', \n",
    "                    'password':'dpo_python_2020'\n",
    "}\n",
    "\n",
    "q = '''SELECT user_id, \n",
    "            exp_group,\n",
    "            sum(action = 'like') as likes,\n",
    "            sum(action = 'view') as views,\n",
    "            likes/views as ctr\n",
    "        FROM {db}.feed_actions\n",
    "        where toDate(time) >= '2022-04-24' and toDate(time) <= '2022-04-30' and exp_group in (2,1)\n",
    "        group by user_id, exp_group\n",
    "        '''\n",
    "\n",
    "df = pandahouse.read_clickhouse(q, connection=connection)\n",
    "df.groupby('exp_group').count()"
   ]
  },
  {
   "cell_type": "code",
   "execution_count": 3,
   "id": "867301fc-a1c8-4730-b07e-7ed65549bb54",
   "metadata": {
    "tags": []
   },
   "outputs": [
    {
     "data": {
      "text/plain": [
       "<AxesSubplot:xlabel='ctr', ylabel='Count'>"
      ]
     },
     "execution_count": 3,
     "metadata": {},
     "output_type": "execute_result"
    },
    {
     "data": {
      "image/png": "[encoded data removed]",
      "text/plain": [
       "<Figure size 1080x432 with 1 Axes>"
      ]
     },
     "metadata": {},
     "output_type": "display_data"
    }
   ],
   "source": [
    "#Построим график\n",
    "sns.set(rc = {'figure.figsize':(15,6)})\n",
    "sns.histplot(data = df, x = 'ctr', hue = 'exp_group', palette = ['r', 'b'], alpha = 0.5, kde = False)"
   ]
  },
  {
   "cell_type": "markdown",
   "id": "29403e23-6a2f-4df7-8493-4f9fca7e8f01",
   "metadata": {},
   "source": [
    "По графику видно, что в тестовой группе (2-я) видно как улучшение, так и ухудшение CTR, по странению с контрольной, причём ухудшение доменирует. Проверим это тестами."
   ]
  },
  {
   "cell_type": "code",
   "execution_count": 62,
   "id": "947bdc4c-db5b-42b5-a859-3cda375c1cf7",
   "metadata": {
    "tags": []
   },
   "outputs": [
    {
     "data": {
      "text/plain": [
       "Ttest_indResult(statistic=0.7094392041270486, pvalue=0.4780623130874935)"
      ]
     },
     "execution_count": 62,
     "metadata": {},
     "output_type": "execute_result"
    }
   ],
   "source": [
    "#проводим t-тест\n",
    "stats.ttest_ind(df[df.exp_group == 1].ctr,\n",
    "                df[df.exp_group == 2].ctr,\n",
    "                equal_var = False)"
   ]
  },
  {
   "cell_type": "markdown",
   "id": "bda7ca0b-33f5-4e5f-a7da-f0be8aec6211",
   "metadata": {},
   "source": [
    "По обычному t тесту видим, что p_value = 0,47. Тут t тест не показал статистически значимых различий, p value получился довольно высокий. Причин отклонить нулевую гипотезу у нас нет."
   ]
  },
  {
   "cell_type": "code",
   "execution_count": 5,
   "id": "c7f8b570-ea13-4389-b50a-ed08e1b42502",
   "metadata": {
    "tags": []
   },
   "outputs": [
    {
     "data": {
      "text/plain": [
       "MannwhitneyuResult(statistic=56601260.5, pvalue=6.0376484617779035e-56)"
      ]
     },
     "execution_count": 5,
     "metadata": {},
     "output_type": "execute_result"
    }
   ],
   "source": [
    "#проводим тест Манна Уитни\n",
    "stats.mannwhitneyu(df[df.exp_group == 1].ctr,\n",
    "                   df[df.exp_group == 2].ctr,\n",
    "                   alternative = 'two-sided')"
   ]
  },
  {
   "cell_type": "markdown",
   "id": "8827a0a9-ec90-4b51-82f4-bebec33943aa",
   "metadata": {},
   "source": [
    "Тест Манна Уитни показал весьма малое P value, что говорит о статистически значимых различиях. Пока неоднозначно, продолжим исследовать наши данные, надо узнать изменилась ли метрика, по сравнению с контрольной группой."
   ]
  },
  {
   "cell_type": "markdown",
   "id": "17a04da4-55c2-4496-9e1d-1ac7fb941fb5",
   "metadata": {},
   "source": [
    "# t-тест на сглаженном CTR"
   ]
  },
  {
   "cell_type": "code",
   "execution_count": 6,
   "id": "2a7cf16d-7727-47fe-b48e-a773fe66cf2b",
   "metadata": {},
   "outputs": [],
   "source": [
    "#Построим фенкцию, которая будет сглаживать наш CTR\n",
    "def get_smothed_ctr(user_likes, user_views, global_ctr, alpha):\n",
    "    smothed_ctr = (user_likes + alpha * global_ctr) / (user_views + alpha)\n",
    "    return smothed_ctr"
   ]
  },
  {
   "cell_type": "code",
   "execution_count": 7,
   "id": "06b0aae6-6e55-48b7-b6a6-afdbc2042c1d",
   "metadata": {},
   "outputs": [],
   "source": [
    "#Возьмём глобальный CTR по каждой из групп\n",
    "global_ctr_1 = df[df.exp_group == 1].likes.sum()/df[df.exp_group == 1].views.sum()\n",
    "global_ctr_2 = df[df.exp_group == 2].likes.sum()/df[df.exp_group == 2].views.sum()"
   ]
  },
  {
   "cell_type": "code",
   "execution_count": 8,
   "id": "17237eaa-4ae3-44e7-aba5-d6c2b21ce01d",
   "metadata": {},
   "outputs": [],
   "source": [
    "#Выделим данные из датафрейма только с нашими группами\n",
    "group1 = df[df.exp_group == 1].copy()\n",
    "group2 = df[df.exp_group == 2].copy()"
   ]
  },
  {
   "cell_type": "code",
   "execution_count": 57,
   "id": "2fe7f481-1504-4e2f-8bc6-4a59fb3ee93d",
   "metadata": {},
   "outputs": [
    {
     "data": {
      "text/plain": [
       "<matplotlib.legend.Legend at 0x7f6a01f8fc10>"
      ]
     },
     "execution_count": 57,
     "metadata": {},
     "output_type": "execute_result"
    },
    {
     "data": {
      "image/png": "[encoded data removed]",
      "text/plain": [
       "<Figure size 1080x432 with 1 Axes>"
      ]
     },
     "metadata": {},
     "output_type": "display_data"
    }
   ],
   "source": [
    "#Построим график распределения без сглаживания\n",
    "sns.histplot(group1.ctr, kde = False, color = 'r', label = '1', alpha=0.5)\n",
    "sns.histplot(group2.ctr, kde = False, color = 'b', label = '2', alpha=0.5)\n",
    "plt.legend(title = 'exp_group')"
   ]
  },
  {
   "cell_type": "code",
   "execution_count": 10,
   "id": "1a39a708-3934-425a-8a18-f621fbb87c3f",
   "metadata": {},
   "outputs": [],
   "source": [
    "#Добавим столбец со сглаживанием CTR\n",
    "group1['smothead_ctr'] = group1.apply(lambda x: get_smothed_ctr(x['likes'], x['views'], global_ctr_1, 5), axis = 1)\n",
    "group2['smothead_ctr'] = group2.apply(lambda x: get_smothed_ctr(x['likes'], x['views'], global_ctr_2, 5), axis = 1)"
   ]
  },
  {
   "cell_type": "code",
   "execution_count": 56,
   "id": "cb42b04d-84ec-4702-821c-ba864d7f1763",
   "metadata": {},
   "outputs": [
    {
     "data": {
      "text/plain": [
       "<matplotlib.legend.Legend at 0x7f6a02084040>"
      ]
     },
     "execution_count": 56,
     "metadata": {},
     "output_type": "execute_result"
    },
    {
     "data": {
      "image/png": "[encoded data removed]",
      "text/plain": [
       "<Figure size 1080x432 with 1 Axes>"
      ]
     },
     "metadata": {},
     "output_type": "display_data"
    }
   ],
   "source": [
    "#Построим график после сглаживания\n",
    "sns.histplot(group1.smothead_ctr, kde = False, color = 'r', label = '1', alpha=0.5)\n",
    "sns.histplot(group2.smothead_ctr, kde = False, color = 'b', label = '2', alpha=0.5)\n",
    "plt.legend(title = 'exp_group')"
   ]
  },
  {
   "cell_type": "code",
   "execution_count": 12,
   "id": "333f6449-d721-43e8-83e7-8f7fc3200552",
   "metadata": {
    "tags": []
   },
   "outputs": [
    {
     "data": {
      "text/plain": [
       "Ttest_indResult(statistic=2.2841320431616983, pvalue=0.0223769815558559)"
      ]
     },
     "execution_count": 12,
     "metadata": {},
     "output_type": "execute_result"
    }
   ],
   "source": [
    "#t-тест на сглаженном CTR\n",
    "stats.ttest_ind(group1.smothead_ctr,\n",
    "                group2.smothead_ctr,\n",
    "                equal_var = False)"
   ]
  },
  {
   "cell_type": "markdown",
   "id": "33bbb629-97bc-4340-b9f5-7bc4b5ff588c",
   "metadata": {},
   "source": [
    "На сглаженном CTR мы получили статистически значимые различи и видим, что сам тест стал более чувствительный. Также сам грфик стал выглядеть более сглаженным."
   ]
  },
  {
   "cell_type": "markdown",
   "id": "cb5d6b83-814a-447e-a0aa-c45e3847b6e1",
   "metadata": {},
   "source": [
    "# Пуассоновский бутстреп "
   ]
  },
  {
   "cell_type": "code",
   "execution_count": 13,
   "id": "05a0a814-bf36-41bf-a4bd-5f4d397ce767",
   "metadata": {},
   "outputs": [],
   "source": [
    "#Пишем функцию, для подсчёта разницы в CTR и повторяем процедуру 2000 раз\n",
    "\n",
    "def bootstrap(likes1, views1, likes2, views2, n_bootstrap=2000):\n",
    "\n",
    "    poisson_bootstraps1 = stats.poisson(1).rvs(\n",
    "        (n_bootstrap, len(likes1))).astype(np.int64)\n",
    "\n",
    "    poisson_bootstraps2 = stats.poisson(1).rvs(\n",
    "            (n_bootstrap, len(likes2))).astype(np.int64)\n",
    "    \n",
    "    globalCTR1 = (poisson_bootstraps1*likes1).sum(axis=1)/(poisson_bootstraps1*views1).sum(axis=1)\n",
    "    \n",
    "    globalCTR2 = (poisson_bootstraps2*likes2).sum(axis=1)/(poisson_bootstraps2*views2).sum(axis=1)\n",
    "\n",
    "    return globalCTR1, globalCTR2"
   ]
  },
  {
   "cell_type": "code",
   "execution_count": 14,
   "id": "0fa0bc5f-fcf1-458f-995c-e3e751486fb5",
   "metadata": {},
   "outputs": [],
   "source": [
    "#Переводим данные по лайкам и просмотрам в массив\n",
    "\n",
    "likes1 = df[df.exp_group == 1].likes.to_numpy()\n",
    "views1 = df[df.exp_group == 1].views.to_numpy()\n",
    "likes2 = df[df.exp_group == 2].likes.to_numpy()\n",
    "views2 = df[df.exp_group == 2].views.to_numpy()"
   ]
  },
  {
   "cell_type": "code",
   "execution_count": 15,
   "id": "7f112a2f-040e-4255-a9e6-bb3abac7c4f8",
   "metadata": {},
   "outputs": [],
   "source": [
    "#Прогоняем данные через функцию\n",
    "ctr1, ctr2 = bootstrap(likes1, views1, likes2, views2)"
   ]
  },
  {
   "cell_type": "code",
   "execution_count": 24,
   "id": "90c88b4b-5480-417e-8cee-319395411082",
   "metadata": {},
   "outputs": [
    {
     "data": {
      "text/plain": [
       "<matplotlib.legend.Legend at 0x7f6a02e983d0>"
      ]
     },
     "execution_count": 24,
     "metadata": {},
     "output_type": "execute_result"
    },
    {
     "data": {
      "image/png": "[encoded data removed]",
      "text/plain": [
       "<Figure size 1080x432 with 1 Axes>"
      ]
     },
     "metadata": {},
     "output_type": "display_data"
    }
   ],
   "source": [
    "#Строим график, чтобы посмотреть разность CTR между двумя группами\n",
    "#Напомню, что 1 группа у нас контрольная, а вторая тестовая\n",
    "sns.histplot(ctr1, color = 'r', label = '1')\n",
    "sns.histplot(ctr2, color = 'b', label = '2')\n",
    "plt.legend(title = 'exp_group')"
   ]
  },
  {
   "cell_type": "code",
   "execution_count": 25,
   "id": "d0b07552-1887-40e7-924d-726898d7f6f6",
   "metadata": {},
   "outputs": [
    {
     "data": {
      "text/plain": [
       "<AxesSubplot:ylabel='Count'>"
      ]
     },
     "execution_count": 25,
     "metadata": {},
     "output_type": "execute_result"
    },
    {
     "data": {
      "image/png": "[encoded data removed]",
      "text/plain": [
       "<Figure size 1080x432 with 1 Axes>"
      ]
     },
     "metadata": {},
     "output_type": "display_data"
    }
   ],
   "source": [
    "#Смотрим разницу CTR между тестовой и контрольной группой\n",
    "sns.histplot(ctr2 - ctr1)"
   ]
  },
  {
   "cell_type": "markdown",
   "id": "85ec6bef-3e8d-49e1-b02c-a4f982825a5f",
   "metadata": {},
   "source": [
    "Как видно на первом и втором графике, СTR в контрольной группе оказался выше, чем в тестовой. На втором графике видно, что разница между тестовой и контрольной группой не пересекается и лежит по одну строну от нуля. Данный тест показал, что новая рекомендация постов отрабола хуже, чем та, которая уже используется."
   ]
  },
  {
   "cell_type": "markdown",
   "id": "4049621c-08f4-4dc5-85ea-a45df5f01707",
   "metadata": {
    "tags": []
   },
   "source": [
    "# Бакетное преобразование\n"
   ]
  },
  {
   "cell_type": "code",
   "execution_count": 43,
   "id": "c90f9b1e-e484-4a4c-ac53-3365f8e2d8d1",
   "metadata": {},
   "outputs": [
    {
     "data": {
      "text/html": [
       "<div>\n",
       "<style scoped>\n",
       "    .dataframe tbody tr th:only-of-type {\n",
       "        vertical-align: middle;\n",
       "    }\n",
       "\n",
       "    .dataframe tbody tr th {\n",
       "        vertical-align: top;\n",
       "    }\n",
       "\n",
       "    .dataframe thead th {\n",
       "        text-align: right;\n",
       "    }\n",
       "</style>\n",
       "<table border=\"1\" class=\"dataframe\">\n",
       "  <thead>\n",
       "    <tr style=\"text-align: right;\">\n",
       "      <th></th>\n",
       "      <th>exp_group</th>\n",
       "      <th>bucket</th>\n",
       "      <th>bucket_ctr</th>\n",
       "    </tr>\n",
       "  </thead>\n",
       "  <tbody>\n",
       "    <tr>\n",
       "      <th>0</th>\n",
       "      <td>1</td>\n",
       "      <td>0</td>\n",
       "      <td>0.196481</td>\n",
       "    </tr>\n",
       "    <tr>\n",
       "      <th>1</th>\n",
       "      <td>2</td>\n",
       "      <td>0</td>\n",
       "      <td>0.194262</td>\n",
       "    </tr>\n",
       "  </tbody>\n",
       "</table>\n",
       "</div>"
      ],
      "text/plain": [
       "   exp_group  bucket  bucket_ctr\n",
       "0          1       0    0.196481\n",
       "1          2       0    0.194262"
      ]
     },
     "execution_count": 43,
     "metadata": {},
     "output_type": "execute_result"
    }
   ],
   "source": [
    "#Получаем данные для бакетного преобразования. Делим наших пользователей на группы по 50 человек.\n",
    "\n",
    "q = \"\"\"\n",
    "\n",
    "SELECT exp_group, bucket,\n",
    "    sum(likes)/sum(views) as bucket_ctr\n",
    "FROM (SELECT exp_group, \n",
    "        xxHash64(user_id)%50 as bucket,\n",
    "        user_id,\n",
    "        sum(action = 'like') as likes,\n",
    "        sum(action = 'view') as views,\n",
    "        likes/views as ctr\n",
    "    FROM {db}.feed_actions \n",
    "    WHERE toDate(time) between '2022-04-24' and '2022-04-30'\n",
    "        and exp_group in (1,2)\n",
    "    GROUP BY exp_group, bucket, user_id)\n",
    "GROUP BY exp_group, bucket\n",
    "\"\"\"\n",
    "\n",
    "df_b = pandahouse.read_clickhouse(q, connection=connection)\n",
    "df_b.head(2)"
   ]
  },
  {
   "cell_type": "code",
   "execution_count": 58,
   "id": "4391886a-3411-4357-a224-e15c6809a36e",
   "metadata": {},
   "outputs": [
    {
     "data": {
      "text/plain": [
       "<matplotlib.legend.Legend at 0x7f6a01df3f10>"
      ]
     },
     "execution_count": 58,
     "metadata": {},
     "output_type": "execute_result"
    },
    {
     "data": {
      "image/png": "[encoded data removed]",
      "text/plain": [
       "<Figure size 1080x432 with 1 Axes>"
      ]
     },
     "metadata": {},
     "output_type": "display_data"
    }
   ],
   "source": [
    "#Визуализируем даннные\n",
    "sns.histplot(df_b[df_b.exp_group == 1].bucket_ctr, color = 'r', label = '1', alpha=0.5)\n",
    "sns.histplot(df_b[df_b.exp_group == 2].bucket_ctr, color = 'b', label = '2', alpha=0.5)\n",
    "plt.legend(title = 'exp_group')"
   ]
  },
  {
   "cell_type": "code",
   "execution_count": 47,
   "id": "9c2537fe-cc3e-48a5-b6e2-dab007529cb1",
   "metadata": {},
   "outputs": [
    {
     "data": {
      "text/plain": [
       "Ttest_indResult(statistic=5.668234732053979, pvalue=3.4455951649945907e-07)"
      ]
     },
     "execution_count": 47,
     "metadata": {},
     "output_type": "execute_result"
    }
   ],
   "source": [
    "#Проводим t-тест\n",
    "stats.ttest_ind(df_b[df_b.exp_group == 1].bucket_ctr, \n",
    "                   df_b[df_b.exp_group == 2].bucket_ctr, \n",
    "                   equal_var = False)"
   ]
  },
  {
   "cell_type": "code",
   "execution_count": 46,
   "id": "d8d0484b-dcd4-4f8a-bd6b-00742dd02fce",
   "metadata": {},
   "outputs": [
    {
     "data": {
      "text/plain": [
       "MannwhitneyuResult(statistic=1995.0, pvalue=2.859963936492646e-07)"
      ]
     },
     "execution_count": 46,
     "metadata": {},
     "output_type": "execute_result"
    }
   ],
   "source": [
    "#Проводим тест Манна Уитни\n",
    "stats.mannwhitneyu(df_b[df_b.exp_group == 1].bucket_ctr, \n",
    "                   df_b[df_b.exp_group == 2].bucket_ctr, \n",
    "                   alternative = 'two-sided')"
   ]
  },
  {
   "cell_type": "markdown",
   "id": "ccf7a878-02f9-40f5-83bf-df46e14fd799",
   "metadata": {},
   "source": [
    "# Выводы"
   ]
  },
  {
   "cell_type": "markdown",
   "id": "281f89db-954e-4e17-8258-0749f816a109",
   "metadata": {},
   "source": [
    "Соберём все данные по результатам тестов:\n",
    "-    t-тест:           p-value = 0.4780623130874935\n",
    "-    Тест Манна-Уитни: p-value = 6.0376484617779035e-56\n",
    "-    Пуассоновский бутстреп: Тестовая группа показала результаты хуже, чем контрольная. \n",
    "-    t-тест на сглаженном ctr: p-value = 0.0223769815558559\n",
    "-    t-тест и тест Манна-Уитни поверх бакетного преобразования:  t-тест (p-value = 3.4455951649945907e-07),  тест Манна-Уитни (p-value = 2.859963936492646e-07)"
   ]
  },
  {
   "cell_type": "markdown",
   "id": "53c12f2c-2d05-48a1-80ea-800eedbc0f20",
   "metadata": {},
   "source": [
    "По графику, который мы построили с самого начала видно, что тестовая группа имеет бимодальное распределение. Это говорит о том, что система отработала неоднозначно, каким-то пользователям был интересен контент, каким-то нет. Но на визуальзации видно, что доминируещее количество наблюдений находится на более низком CTR, чем в контрольной группе."
   ]
  },
  {
   "cell_type": "markdown",
   "id": "7ccd4c1e-e1c6-4923-8eff-e64bbc17467e",
   "metadata": {},
   "source": [
    "Что собственно подтверждают наши тесты, они все (кроме t-теста на исходных данных) показали статистическую значимость в ухудшении CTR. Лучше всего нам показывает это пуассоновский бутстреп, на нём чётко видна разность CTR в тестовой и котнтрольной группе в пользу контрольной группы."
   ]
  },
  {
   "cell_type": "markdown",
   "id": "8139f610-d6ae-4835-be47-c683da6e9956",
   "metadata": {},
   "source": [
    "В итоге можем сделать вывод, что новая сисема рекомендации постов показала плохие результат и использовать её в таком виде не рекомендуется. Возможно следует доработать её и испытать заново."
   ]
  },
  {
   "cell_type": "markdown",
   "id": "9e6d9c12-21b1-4877-a014-dfd86249b0f6",
   "metadata": {},
   "source": [
    "Одно из предположений, почему новый алгоритм не сработал заключается в том, что вероятно сам алгоритм не совсем корректно предлагал посты, на основе лайков пользователя и вероятно они были не совсем релевантны для данного человека."
   ]
  },
  {
   "cell_type": "code",
   "execution_count": null,
   "id": "37b4e314-5f72-41b4-be23-2540a36bc388",
   "metadata": {},
   "outputs": [],
   "source": []
  }
 ],
 "metadata": {
  "kernelspec": {
   "display_name": "Python 3 (ipykernel)",
   "language": "python",
   "name": "python3"
  },
  "language_info": {
   "codemirror_mode": {
    "name": "ipython",
    "version": 3
   },
   "file_extension": ".py",
   "mimetype": "text/x-python",
   "name": "python",
   "nbconvert_exporter": "python",
   "pygments_lexer": "ipython3",
   "version": "3.8.10"
  }
 },
 "nbformat": 4,
 "nbformat_minor": 5
}
