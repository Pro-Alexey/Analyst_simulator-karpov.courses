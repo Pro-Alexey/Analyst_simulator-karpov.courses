{
 "cells": [
  {
   "cell_type": "markdown",
   "id": "3459f319-1454-4617-970e-4be436623c18",
   "metadata": {
    "tags": []
   },
   "source": [
    "# Проводим АА тест для проверки корректности работы нашей системы сплитования\n",
    "\n",
    "# Задачи:\n",
    "- Взять данные АА-теста с '2022-04-17' по '2022-04-23'\n",
    "- Сделать симуляцию, как будто мы провели 10000 АА-тестов\n",
    "- Сформировать подвыборки с повторением в 500 юзеров из 2 и 3 экспериментальной группы\n",
    "- Провести сравнение этих подвыборок t-testом"
   ]
  },
  {
   "cell_type": "code",
   "execution_count": 55,
   "id": "9d250232-9433-4c37-b7dc-ed4e0aa7653c",
   "metadata": {},
   "outputs": [
    {
     "data": {
      "text/html": [
       "<div>\n",
       "<style scoped>\n",
       "    .dataframe tbody tr th:only-of-type {\n",
       "        vertical-align: middle;\n",
       "    }\n",
       "\n",
       "    .dataframe tbody tr th {\n",
       "        vertical-align: top;\n",
       "    }\n",
       "\n",
       "    .dataframe thead th {\n",
       "        text-align: right;\n",
       "    }\n",
       "</style>\n",
       "<table border=\"1\" class=\"dataframe\">\n",
       "  <thead>\n",
       "    <tr style=\"text-align: right;\">\n",
       "      <th></th>\n",
       "      <th>user_id</th>\n",
       "      <th>likes</th>\n",
       "      <th>view</th>\n",
       "      <th>ctr</th>\n",
       "    </tr>\n",
       "    <tr>\n",
       "      <th>exp_group</th>\n",
       "      <th></th>\n",
       "      <th></th>\n",
       "      <th></th>\n",
       "      <th></th>\n",
       "    </tr>\n",
       "  </thead>\n",
       "  <tbody>\n",
       "    <tr>\n",
       "      <th>2</th>\n",
       "      <td>8480</td>\n",
       "      <td>8480</td>\n",
       "      <td>8480</td>\n",
       "      <td>8480</td>\n",
       "    </tr>\n",
       "    <tr>\n",
       "      <th>3</th>\n",
       "      <td>8569</td>\n",
       "      <td>8569</td>\n",
       "      <td>8569</td>\n",
       "      <td>8569</td>\n",
       "    </tr>\n",
       "  </tbody>\n",
       "</table>\n",
       "</div>"
      ],
      "text/plain": [
       "           user_id  likes  view   ctr\n",
       "exp_group                            \n",
       "2             8480   8480  8480  8480\n",
       "3             8569   8569  8569  8569"
      ]
     },
     "execution_count": 55,
     "metadata": {},
     "output_type": "execute_result"
    }
   ],
   "source": [
    "#Получаем данные и смотрим на размер групп\n",
    "\n",
    "import pandahouse\n",
    "import pandas as pd\n",
    "import matplotlib.pyplot as plt\n",
    "import seaborn as sns\n",
    "from scipy import stats\n",
    "\n",
    "connection = {\n",
    "    'host': 'https://clickhouse.lab.karpov.courses',\n",
    "                    'database':'simulator_20220520',\n",
    "                    'user':'student', \n",
    "                    'password':'dpo_python_2020'\n",
    "}\n",
    "\n",
    "q = '''SELECT user_id, \n",
    "            exp_group,\n",
    "            sum(action = 'like') as likes,\n",
    "            sum(action = 'view') as view,\n",
    "            likes/view as ctr\n",
    "        FROM {db}.feed_actions\n",
    "        where toDate(time) >= '2022-04-17' and toDate(time) <= '2022-04-23' and exp_group in (2,3)\n",
    "        group by user_id, exp_group\n",
    "        '''\n",
    "\n",
    "df = pandahouse.read_clickhouse(q, connection=connection)\n",
    "df.groupby('exp_group').count()"
   ]
  },
  {
   "cell_type": "code",
   "execution_count": 25,
   "id": "b8280416-fc8d-4111-8e36-57166f961ef7",
   "metadata": {},
   "outputs": [
    {
     "data": {
      "image/png": "[encoded data removed]",
      "text/plain": [
       "<Figure size 1080x432 with 1 Axes>"
      ]
     },
     "metadata": {},
     "output_type": "display_data"
    }
   ],
   "source": [
    "#Построим график наших 2-х групп\n",
    "#Как мы видим распределение 2-х групп практически одинаковое\n",
    "\n",
    "sns.set(rc = {'figure.figsize':(15, 6)})\n",
    "\n",
    "groups = sns.histplot(data = df, x = 'ctr', hue = 'exp_group', palette = ['r', 'b'], alpha = 0.5, kde = False)"
   ]
  },
  {
   "cell_type": "code",
   "execution_count": 59,
   "id": "cf9b8eb4-1e99-437c-a824-7bed1f33e232",
   "metadata": {
    "tags": []
   },
   "outputs": [
    {
     "data": {
      "text/html": [
       "<div>\n",
       "<style scoped>\n",
       "    .dataframe tbody tr th:only-of-type {\n",
       "        vertical-align: middle;\n",
       "    }\n",
       "\n",
       "    .dataframe tbody tr th {\n",
       "        vertical-align: top;\n",
       "    }\n",
       "\n",
       "    .dataframe thead th {\n",
       "        text-align: right;\n",
       "    }\n",
       "</style>\n",
       "<table border=\"1\" class=\"dataframe\">\n",
       "  <thead>\n",
       "    <tr style=\"text-align: right;\">\n",
       "      <th></th>\n",
       "      <th>p_val</th>\n",
       "    </tr>\n",
       "  </thead>\n",
       "  <tbody>\n",
       "    <tr>\n",
       "      <th>0</th>\n",
       "      <td>0.43</td>\n",
       "    </tr>\n",
       "    <tr>\n",
       "      <th>1</th>\n",
       "      <td>0.33</td>\n",
       "    </tr>\n",
       "  </tbody>\n",
       "</table>\n",
       "</div>"
      ],
      "text/plain": [
       "   p_val\n",
       "0   0.43\n",
       "1   0.33"
      ]
     },
     "execution_count": 59,
     "metadata": {},
     "output_type": "execute_result"
    }
   ],
   "source": [
    "#Далее делаем симуляцию 10 000 АА тестов и на каждой итерации берём подвыборки по 500 юзеров из каждой группы.\n",
    "\n",
    "lst = []\n",
    "for _ in range(10000):\n",
    "    p_val = round(stats.ttest_ind(df[df.exp_group == 2].ctr.sample(500, replace = True),\n",
    "                df[df.exp_group == 3].ctr.sample(500, replace = True),\n",
    "                equal_var=False)[1],2)\n",
    "    \n",
    "    lst.append(p_val)\n",
    "    df1 = pd.DataFrame(lst, columns = ['p_val'])\n",
    "df1.head(2)"
   ]
  },
  {
   "cell_type": "code",
   "execution_count": 58,
   "id": "a7120080-6b6f-4821-8351-eb2eba56d515",
   "metadata": {
    "tags": []
   },
   "outputs": [
    {
     "data": {
      "text/plain": [
       "5.68"
      ]
     },
     "execution_count": 58,
     "metadata": {},
     "output_type": "execute_result"
    }
   ],
   "source": [
    "#Смотрим какой % у нас P value < 0,005%\n",
    "\n",
    "p_value = round(df1[df1.p_val <= 0.05].shape[0]/df1.shape[0]*100,2)\n",
    "p_value"
   ]
  },
  {
   "cell_type": "code",
   "execution_count": 57,
   "id": "e9797afc-5296-49a7-82cd-65b7324ec668",
   "metadata": {},
   "outputs": [
    {
     "data": {
      "text/plain": [
       "<AxesSubplot:xlabel='p_val', ylabel='Count'>"
      ]
     },
     "execution_count": 57,
     "metadata": {},
     "output_type": "execute_result"
    },
    {
     "data": {
      "image/png": "[encoded data removed]",
      "text/plain": [
       "<Figure size 1080x432 with 1 Axes>"
      ]
     },
     "metadata": {},
     "output_type": "display_data"
    }
   ],
   "source": [
    "#Строим график распределения 10 000 P-values\n",
    "\n",
    "sns.set(rc = {'figure.figsize':(15, 6)})\n",
    "sns.histplot(data = df1, x = 'p_val')"
   ]
  },
  {
   "cell_type": "markdown",
   "id": "ed11a86b-a8f5-42e2-bd8a-73364650e967",
   "metadata": {},
   "source": [
    "При анализе корректности работы нашей системы сплитования АА тест показал следующие результы:\n",
    "1. Процент P-value < 0,005% у нас оказался 5,68%. Это говорит о том, что статистически значимые различия получились чуть более, чем в 5% случаев.\n",
    "2. На основе данного вывода можем считать, что группы разбиты правильно и статистически незначимые различия лежат в 95% случаях.\n",
    "3. По итогу вышеперечисленных выводов можем переходить к АБ тесту."
   ]
  }
 ],
 "metadata": {
  "kernelspec": {
   "display_name": "Python 3 (ipykernel)",
   "language": "python",
   "name": "python3"
  },
  "language_info": {
   "codemirror_mode": {
    "name": "ipython",
    "version": 3
   },
   "file_extension": ".py",
   "mimetype": "text/x-python",
   "name": "python",
   "nbconvert_exporter": "python",
   "pygments_lexer": "ipython3",
   "version": "3.8.10"
  }
 },
 "nbformat": 4,
 "nbformat_minor": 5
}
